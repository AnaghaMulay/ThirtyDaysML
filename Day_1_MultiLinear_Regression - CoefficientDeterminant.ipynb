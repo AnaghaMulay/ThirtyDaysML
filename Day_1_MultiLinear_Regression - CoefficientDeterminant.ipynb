{
 "cells": [
  {
   "cell_type": "code",
   "execution_count": 4,
   "id": "b5c132fa",
   "metadata": {},
   "outputs": [],
   "source": [
    "import numpy as np\n",
    "import pandas as pd"
   ]
  },
  {
   "cell_type": "code",
   "execution_count": 5,
   "id": "4bdeccf7",
   "metadata": {},
   "outputs": [
    {
     "name": "stdout",
     "output_type": "stream",
     "text": [
      "Enter what is the total number of records in the dataset : 5\n",
      "Enter the number of columns : 3\n",
      "Enter 0th value for 0th row: 8\n",
      "Enter 1th value for 0th row: 12\n",
      "Enter 2th value for 0th row: 1\n",
      "Enter 0th value for 1th row: 13\n",
      "Enter 1th value for 1th row: 4\n",
      "Enter 2th value for 1th row: 1\n",
      "Enter 0th value for 2th row: 15\n",
      "Enter 1th value for 2th row: 6\n",
      "Enter 2th value for 2th row: 1\n",
      "Enter 0th value for 3th row: 9\n",
      "Enter 1th value for 3th row: 10\n",
      "Enter 2th value for 3th row: 1\n",
      "Enter 0th value for 4th row: 12\n",
      "Enter 1th value for 4th row: 1\n",
      "Enter 2th value for 4th row: 3\n",
      "Enter the 0th value for y array15.3\n",
      "Enter the 1th value for y array14.3\n",
      "Enter the 2th value for y array15.12\n",
      "Enter the 3th value for y array16\n",
      "Enter the 4th value for y array16.1\n",
      "Enter the total number of records to be predicted : 1\n",
      "Enter 0th value for 0th row: 7\n",
      "Enter 1th value for 0th row: 8\n",
      "Enter 2th value for 0th row: 4\n"
     ]
    }
   ],
   "source": [
    "X = []\n",
    "Y = []\n",
    "X_pred = []\n",
    "\n",
    "rows = int(input(\"Enter what is the total number of records in the dataset : \"))\n",
    "columns = int(input(\"Enter the number of columns : \"))\n",
    "\n",
    "for i in range (rows):\n",
    "    a = []\n",
    "    for j in range (columns):\n",
    "        a.append(float(input(\"Enter \"+str(j)+\"th value for \"+str(i)+\"th row: \")))\n",
    "    X.append(a)\n",
    "\n",
    "for i in range (rows):\n",
    "    Y.append(float(input(\"Enter the \"+str(i)+\"th value for y array\")))\n",
    "    \n",
    "rw = int(input(\"Enter the total number of records to be predicted : \"))    \n",
    "\n",
    "for i in range (rw):\n",
    "    a = []\n",
    "    for j in range (columns):\n",
    "        a.append(float(input(\"Enter \"+str(j)+\"th value for \"+str(i)+\"th row: \")))\n",
    "    X_pred.append(a)"
   ]
  },
  {
   "cell_type": "code",
   "execution_count": 2,
   "id": "09ad48b1",
   "metadata": {},
   "outputs": [],
   "source": [
    "#X = [[2.2,10],[3,4],[5,6],[9,10]]\n",
    "#Y = [13.1,11.1,10.12,12]\n",
    "#N = [[1,2]]"
   ]
  },
  {
   "cell_type": "code",
   "execution_count": 6,
   "id": "1ddc36a4",
   "metadata": {},
   "outputs": [],
   "source": [
    "X = np.array(X)\n",
    "r=np.size(X,0)\n",
    "train = round(0.8*r)\n",
    "test = r - round(0.8*r)"
   ]
  },
  {
   "cell_type": "code",
   "execution_count": 7,
   "id": "823d8f83",
   "metadata": {},
   "outputs": [],
   "source": [
    "y = np.array(Y)"
   ]
  },
  {
   "cell_type": "code",
   "execution_count": 8,
   "id": "fae5f585",
   "metadata": {},
   "outputs": [
    {
     "data": {
      "text/plain": [
       "array([[ 8., 12.,  1.],\n",
       "       [13.,  4.,  1.],\n",
       "       [15.,  6.,  1.],\n",
       "       [ 9., 10.,  1.]])"
      ]
     },
     "execution_count": 8,
     "metadata": {},
     "output_type": "execute_result"
    }
   ],
   "source": [
    "X_train = X[:train,:]\n",
    "X_train"
   ]
  },
  {
   "cell_type": "code",
   "execution_count": 9,
   "id": "1231f77a",
   "metadata": {},
   "outputs": [
    {
     "data": {
      "text/plain": [
       "array([15.3 , 14.3 , 15.12, 16.  ])"
      ]
     },
     "execution_count": 9,
     "metadata": {},
     "output_type": "execute_result"
    }
   ],
   "source": [
    "y_train = y[:train]\n",
    "y_train"
   ]
  },
  {
   "cell_type": "code",
   "execution_count": 10,
   "id": "3480a4d2",
   "metadata": {},
   "outputs": [],
   "source": [
    "X_test = X[train:,:]\n",
    "y_test = y[train:]"
   ]
  },
  {
   "cell_type": "markdown",
   "id": "fac08a60",
   "metadata": {},
   "source": [
    "In case if you have any non numeric data, apply OneHotEncoder technique to convert categorical data into numeric data"
   ]
  },
  {
   "cell_type": "code",
   "execution_count": 12,
   "id": "e0fd83c6",
   "metadata": {},
   "outputs": [
    {
     "data": {
      "text/plain": [
       "LinearRegression()"
      ]
     },
     "execution_count": 12,
     "metadata": {},
     "output_type": "execute_result"
    }
   ],
   "source": [
    "from sklearn.linear_model import LinearRegression\n",
    "regressor = LinearRegression()\n",
    "regressor.fit(X_train, y_train)"
   ]
  },
  {
   "cell_type": "code",
   "execution_count": 13,
   "id": "2632e78a",
   "metadata": {},
   "outputs": [
    {
     "name": "stdout",
     "output_type": "stream",
     "text": [
      "[[13.76 16.1 ]]\n"
     ]
    }
   ],
   "source": [
    "y_pred1 = regressor.predict(X_test)\n",
    "np.set_printoptions(precision=2)\n",
    "\n",
    "print(np.concatenate((y_pred1.reshape(len(y_pred1),1), y_test.reshape(len(y_test),1)),1))"
   ]
  },
  {
   "cell_type": "code",
   "execution_count": 14,
   "id": "5d032e79",
   "metadata": {},
   "outputs": [
    {
     "name": "stdout",
     "output_type": "stream",
     "text": [
      "0.6015437320734973\n"
     ]
    }
   ],
   "source": [
    "X_pred = np.array(X_pred)\n",
    "y_pred = regressor.predict(X_pred)\n",
    "np.set_printoptions(precision=2)\n",
    "\n",
    "#y_pred\n",
    "print(regressor.score(X_train, y_train))"
   ]
  }
 ],
 "metadata": {
  "kernelspec": {
   "display_name": "Python 3 (ipykernel)",
   "language": "python",
   "name": "python3"
  },
  "language_info": {
   "codemirror_mode": {
    "name": "ipython",
    "version": 3
   },
   "file_extension": ".py",
   "mimetype": "text/x-python",
   "name": "python",
   "nbconvert_exporter": "python",
   "pygments_lexer": "ipython3",
   "version": "3.9.12"
  }
 },
 "nbformat": 4,
 "nbformat_minor": 5
}
