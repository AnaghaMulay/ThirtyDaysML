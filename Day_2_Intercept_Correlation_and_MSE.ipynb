{
 "cells": [
  {
   "cell_type": "code",
   "execution_count": 18,
   "id": "58030ef6",
   "metadata": {},
   "outputs": [],
   "source": [
    "import numpy as np\n",
    "from sklearn.linear_model import LinearRegression"
   ]
  },
  {
   "cell_type": "code",
   "execution_count": 27,
   "id": "d6dec4a0",
   "metadata": {},
   "outputs": [
    {
     "name": "stdout",
     "output_type": "stream",
     "text": [
      "Enter what is the total number of records in the dataset : 4\n",
      "Enter the number of columns : 3\n",
      "Enter 0th value for 0th row: 10\n",
      "Enter 1th value for 0th row: 2\n",
      "Enter 2th value for 0th row: 3\n",
      "Enter 0th value for 1th row: 31\n",
      "Enter 1th value for 1th row: 4\n",
      "Enter 2th value for 1th row: 5\n",
      "Enter 0th value for 2th row: 15\n",
      "Enter 1th value for 2th row: 6\n",
      "Enter 2th value for 2th row: 7\n",
      "Enter 0th value for 3th row: 3\n",
      "Enter 1th value for 3th row: 9\n",
      "Enter 2th value for 3th row: 10\n",
      "Enter the 0th value for y array11\n",
      "Enter the 1th value for y array12\n",
      "Enter the 2th value for y array11\n",
      "Enter the 3th value for y array12\n"
     ]
    }
   ],
   "source": [
    "X = []\n",
    "Y = []\n",
    "X_pred = []\n",
    "\n",
    "rows = int(input(\"Enter what is the total number of records in the dataset : \"))\n",
    "columns = int(input(\"Enter the number of columns : \"))\n",
    "\n",
    "for i in range (rows):\n",
    "    a = []\n",
    "    for j in range (columns):\n",
    "        a.append(float(input(\"Enter \"+str(j)+\"th value for \"+str(i)+\"th row: \")))\n",
    "    X.append(a)\n",
    "\n",
    "for i in range (rows):\n",
    "    Y.append(float(input(\"Enter the \"+str(i)+\"th value for y array\")))\n",
    "    \n"
   ]
  },
  {
   "cell_type": "code",
   "execution_count": 28,
   "id": "15eb639d",
   "metadata": {},
   "outputs": [],
   "source": [
    "X = np.array(X)\n",
    "r=np.size(X,0)\n",
    "train = round(0.8*r)\n",
    "test = r - round(0.8*r)"
   ]
  },
  {
   "cell_type": "code",
   "execution_count": 29,
   "id": "d97ffce9",
   "metadata": {},
   "outputs": [
    {
     "data": {
      "text/plain": [
       "array([11., 12., 11., 12.])"
      ]
     },
     "execution_count": 29,
     "metadata": {},
     "output_type": "execute_result"
    }
   ],
   "source": [
    "y = np.array(Y)\n",
    "y"
   ]
  },
  {
   "cell_type": "code",
   "execution_count": 30,
   "id": "9ee38559",
   "metadata": {},
   "outputs": [
    {
     "data": {
      "text/plain": [
       "array([[10.,  2.,  3.],\n",
       "       [31.,  4.,  5.],\n",
       "       [15.,  6.,  7.]])"
      ]
     },
     "execution_count": 30,
     "metadata": {},
     "output_type": "execute_result"
    }
   ],
   "source": [
    "X_train = X[:train,:]\n",
    "X_train"
   ]
  },
  {
   "cell_type": "code",
   "execution_count": 31,
   "id": "19e7851b",
   "metadata": {},
   "outputs": [
    {
     "data": {
      "text/plain": [
       "array([11., 12., 11.])"
      ]
     },
     "execution_count": 31,
     "metadata": {},
     "output_type": "execute_result"
    }
   ],
   "source": [
    "y_train = y[:train]\n",
    "y_train"
   ]
  },
  {
   "cell_type": "code",
   "execution_count": 32,
   "id": "7df990fa",
   "metadata": {},
   "outputs": [],
   "source": [
    "X_test = X[train:,:]\n",
    "y_test = y[train:]"
   ]
  },
  {
   "cell_type": "code",
   "execution_count": 38,
   "id": "424a833b",
   "metadata": {},
   "outputs": [
    {
     "data": {
      "text/plain": [
       "LinearRegression()"
      ]
     },
     "execution_count": 38,
     "metadata": {},
     "output_type": "execute_result"
    }
   ],
   "source": [
    "from sklearn.linear_model import LinearRegression\n",
    "regressor = LinearRegression()\n",
    "#regressor.fit(X_train, y_train)\n",
    "regressor.fit(X, y)"
   ]
  },
  {
   "cell_type": "code",
   "execution_count": 34,
   "id": "fd82adf2",
   "metadata": {},
   "outputs": [],
   "source": [
    "#Intercept for the given dataset"
   ]
  },
  {
   "cell_type": "code",
   "execution_count": 35,
   "id": "15e9c577",
   "metadata": {},
   "outputs": [
    {
     "data": {
      "text/plain": [
       "10.628378378378379"
      ]
     },
     "execution_count": 35,
     "metadata": {},
     "output_type": "execute_result"
    }
   ],
   "source": [
    "regressor.intercept_"
   ]
  },
  {
   "cell_type": "code",
   "execution_count": 36,
   "id": "a35a46d4",
   "metadata": {},
   "outputs": [],
   "source": [
    "#Coeffecients of Regression"
   ]
  },
  {
   "cell_type": "code",
   "execution_count": 39,
   "id": "88122a6d",
   "metadata": {},
   "outputs": [
    {
     "data": {
      "text/plain": [
       "array([0.0269601 , 0.07129542, 0.07129542])"
      ]
     },
     "execution_count": 39,
     "metadata": {},
     "output_type": "execute_result"
    }
   ],
   "source": [
    "regressor.coef_"
   ]
  },
  {
   "cell_type": "code",
   "execution_count": null,
   "id": "97db82b8",
   "metadata": {},
   "outputs": [
    {
     "name": "stdout",
     "output_type": "stream",
     "text": [
      "[4,5,7,12]\n"
     ]
    }
   ],
   "source": [
    "from sklearn.metrics import mean_squared_error\n",
    "import re\n",
    "def main(): \n",
    "    y_true = []\n",
    "    y_pred = []\n",
    "    i_true = re.sub(r\"[\\([{})\\]]\", \"\", input())\n",
    "    i_pred = re.sub(r\"[\\([{})\\]]\", \"\", input())\n",
    "    l_true = list(i_true.split(','))\n",
    "    l_pred = list(i_pred.split(','))\n",
    "    for a in l_true:\n",
    "        y_true.append(float(a))\n",
    "    for a in l_pred:\n",
    "        y_pred.append(float(a))\n",
    "    \n",
    "    mse1 = mean_sq_err(y_true,y_pred)\n",
    "    mse2 = mean_squared_error(y_true, y_pred)\n",
    "    \n",
    "    if mse1==mse2:\n",
    "        print(mse1)\n",
    "    \n",
    "def mean_sq_err(y_t, y_p):\n",
    "    if len(y_t)==len(y_p):\n",
    "        s = 0\n",
    "        for j in range (len(y_t)):\n",
    "            e_s = (y_t[j]-y_p[j])**2\n",
    "            s = s + e_s\n",
    "        return(s/len(y_p))\n",
    "    \n",
    "    \n",
    "def MeanSquaredError(y_true,y_pred):\n",
    "    result = mean_squared_error(y_true, y_pred)\n",
    "    return result    \n",
    "    \n",
    "    \n",
    "if __name__ == \"__main__\":\n",
    "    main()"
   ]
  }
 ],
 "metadata": {
  "kernelspec": {
   "display_name": "Python 3 (ipykernel)",
   "language": "python",
   "name": "python3"
  },
  "language_info": {
   "codemirror_mode": {
    "name": "ipython",
    "version": 3
   },
   "file_extension": ".py",
   "mimetype": "text/x-python",
   "name": "python",
   "nbconvert_exporter": "python",
   "pygments_lexer": "ipython3",
   "version": "3.9.12"
  }
 },
 "nbformat": 4,
 "nbformat_minor": 5
}
